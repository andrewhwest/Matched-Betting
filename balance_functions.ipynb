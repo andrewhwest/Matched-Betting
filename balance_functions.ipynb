{
 "cells": [
  {
   "cell_type": "markdown",
   "metadata": {},
   "source": [
    "### Functions that were made during part 3 to keep track of balances across various bookmakers accounts."
   ]
  },
  {
   "cell_type": "code",
   "execution_count": null,
   "metadata": {},
   "outputs": [],
   "source": [
    "import pandas as pd"
   ]
  },
  {
   "cell_type": "code",
   "execution_count": 17,
   "metadata": {
    "scrolled": true
   },
   "outputs": [
    {
     "data": {
      "text/html": [
       "<div>\n",
       "<style scoped>\n",
       "    .dataframe tbody tr th:only-of-type {\n",
       "        vertical-align: middle;\n",
       "    }\n",
       "\n",
       "    .dataframe tbody tr th {\n",
       "        vertical-align: top;\n",
       "    }\n",
       "\n",
       "    .dataframe thead th {\n",
       "        text-align: right;\n",
       "    }\n",
       "</style>\n",
       "<table border=\"1\" class=\"dataframe\">\n",
       "  <thead>\n",
       "    <tr style=\"text-align: right;\">\n",
       "      <th></th>\n",
       "      <th>Date Created</th>\n",
       "      <th>Sport</th>\n",
       "      <th>Event</th>\n",
       "      <th>Event Time</th>\n",
       "      <th>Bookie</th>\n",
       "      <th>Bet Type</th>\n",
       "      <th>Type</th>\n",
       "      <th>Outcome</th>\n",
       "      <th>Stake</th>\n",
       "      <th>Odds</th>\n",
       "      <th>Fee (%)</th>\n",
       "      <th>Liability</th>\n",
       "      <th>Return</th>\n",
       "      <th>Potential Profit</th>\n",
       "      <th>Bet Result</th>\n",
       "      <th>Profit</th>\n",
       "      <th>Running Profit</th>\n",
       "      <th>Note</th>\n",
       "      <th>Profit ID</th>\n",
       "    </tr>\n",
       "  </thead>\n",
       "  <tbody>\n",
       "    <tr>\n",
       "      <td>0</td>\n",
       "      <td>19/11/2019 13:48:04</td>\n",
       "      <td>Football</td>\n",
       "      <td>Brighton and Hove Albion v Leicester</td>\n",
       "      <td>23/11/2019 15:00:00</td>\n",
       "      <td>Betfred</td>\n",
       "      <td>Qualifying</td>\n",
       "      <td>Back</td>\n",
       "      <td>Leicester</td>\n",
       "      <td>10.00</td>\n",
       "      <td>2.05</td>\n",
       "      <td>0</td>\n",
       "      <td>0.00</td>\n",
       "      <td>10.50</td>\n",
       "      <td>-0.43</td>\n",
       "      <td>Win</td>\n",
       "      <td>-0.43</td>\n",
       "      <td>-0.43</td>\n",
       "      <td></td>\n",
       "      <td>7967100</td>\n",
       "    </tr>\n",
       "    <tr>\n",
       "      <td>1</td>\n",
       "      <td>19/11/2019 13:48:04</td>\n",
       "      <td>Football</td>\n",
       "      <td>Brighton and Hove Albion v Leicester</td>\n",
       "      <td>23/11/2019 15:00:00</td>\n",
       "      <td>Smarkets</td>\n",
       "      <td>Qualifying</td>\n",
       "      <td>Lay</td>\n",
       "      <td>Leicester</td>\n",
       "      <td>9.76</td>\n",
       "      <td>2.12</td>\n",
       "      <td>2</td>\n",
       "      <td>10.93</td>\n",
       "      <td>9.56</td>\n",
       "      <td>-0.44</td>\n",
       "      <td>Lose</td>\n",
       "      <td>0.00</td>\n",
       "      <td>-0.43</td>\n",
       "      <td></td>\n",
       "      <td>7967100</td>\n",
       "    </tr>\n",
       "    <tr>\n",
       "      <td>2</td>\n",
       "      <td>19/11/2019 14:27:29</td>\n",
       "      <td>Football</td>\n",
       "      <td>Rochdale v Wrexham</td>\n",
       "      <td>19/11/2019 19:45:00</td>\n",
       "      <td>Coral</td>\n",
       "      <td>Qualifying</td>\n",
       "      <td>Back</td>\n",
       "      <td>Rochdale</td>\n",
       "      <td>5.00</td>\n",
       "      <td>1.91</td>\n",
       "      <td>0</td>\n",
       "      <td>0.00</td>\n",
       "      <td>4.55</td>\n",
       "      <td>-0.10</td>\n",
       "      <td>Win</td>\n",
       "      <td>2.57</td>\n",
       "      <td>2.14</td>\n",
       "      <td>2.67 of losses from exchange refunded</td>\n",
       "      <td>7967200</td>\n",
       "    </tr>\n",
       "    <tr>\n",
       "      <td>3</td>\n",
       "      <td>19/11/2019 14:27:29</td>\n",
       "      <td>Football</td>\n",
       "      <td>Rochdale v Wrexham</td>\n",
       "      <td>19/11/2019 19:45:00</td>\n",
       "      <td>Smarkets</td>\n",
       "      <td>Qualifying</td>\n",
       "      <td>Lay</td>\n",
       "      <td>Rochdale</td>\n",
       "      <td>5.00</td>\n",
       "      <td>1.93</td>\n",
       "      <td>2</td>\n",
       "      <td>4.65</td>\n",
       "      <td>4.90</td>\n",
       "      <td>-0.10</td>\n",
       "      <td>Lose</td>\n",
       "      <td>0.00</td>\n",
       "      <td>2.14</td>\n",
       "      <td>2.67 of losses from exchange refunded</td>\n",
       "      <td>7967200</td>\n",
       "    </tr>\n",
       "    <tr>\n",
       "      <td>4</td>\n",
       "      <td>19/11/2019 14:39:18</td>\n",
       "      <td>Football</td>\n",
       "      <td>Wales v Hungary</td>\n",
       "      <td>19/11/2019 19:45:00</td>\n",
       "      <td>Coral</td>\n",
       "      <td>Free (SNR)</td>\n",
       "      <td>Back</td>\n",
       "      <td>Hungary</td>\n",
       "      <td>20.00</td>\n",
       "      <td>6.50</td>\n",
       "      <td>0</td>\n",
       "      <td>0.00</td>\n",
       "      <td>110.00</td>\n",
       "      <td>15.92</td>\n",
       "      <td>Win</td>\n",
       "      <td>15.92</td>\n",
       "      <td>18.06</td>\n",
       "      <td></td>\n",
       "      <td>7967346</td>\n",
       "    </tr>\n",
       "  </tbody>\n",
       "</table>\n",
       "</div>"
      ],
      "text/plain": [
       "           Date Created     Sport                                 Event  \\\n",
       "0   19/11/2019 13:48:04  Football  Brighton and Hove Albion v Leicester   \n",
       "1   19/11/2019 13:48:04  Football  Brighton and Hove Albion v Leicester   \n",
       "2   19/11/2019 14:27:29  Football                    Rochdale v Wrexham   \n",
       "3   19/11/2019 14:27:29  Football                    Rochdale v Wrexham   \n",
       "4  19/11/2019 14:39:18   Football                       Wales v Hungary   \n",
       "\n",
       "            Event Time    Bookie    Bet Type  Type    Outcome  Stake  Odds  \\\n",
       "0  23/11/2019 15:00:00   Betfred  Qualifying  Back  Leicester  10.00  2.05   \n",
       "1  23/11/2019 15:00:00  Smarkets  Qualifying   Lay  Leicester   9.76  2.12   \n",
       "2  19/11/2019 19:45:00     Coral  Qualifying  Back   Rochdale   5.00  1.91   \n",
       "3  19/11/2019 19:45:00  Smarkets  Qualifying   Lay   Rochdale   5.00  1.93   \n",
       "4  19/11/2019 19:45:00     Coral  Free (SNR)  Back    Hungary  20.00  6.50   \n",
       "\n",
       "   Fee (%)  Liability  Return  Potential Profit Bet Result  Profit  \\\n",
       "0        0       0.00   10.50             -0.43        Win   -0.43   \n",
       "1        2      10.93    9.56             -0.44       Lose    0.00   \n",
       "2        0       0.00    4.55             -0.10        Win    2.57   \n",
       "3        2       4.65    4.90             -0.10       Lose    0.00   \n",
       "4        0       0.00  110.00             15.92        Win   15.92   \n",
       "\n",
       "   Running Profit                                   Note  Profit ID  \n",
       "0           -0.43                                           7967100  \n",
       "1           -0.43                                           7967100  \n",
       "2            2.14  2.67 of losses from exchange refunded    7967200  \n",
       "3            2.14  2.67 of losses from exchange refunded    7967200  \n",
       "4           18.06                                           7967346  "
      ]
     },
     "execution_count": 17,
     "metadata": {},
     "output_type": "execute_result"
    }
   ],
   "source": [
    "bet_spreadsheet = pd.read_csv('Bet Spreadsheet with profit features.csv')\n",
    "bet_spreadsheet.head(5)"
   ]
  },
  {
   "cell_type": "markdown",
   "metadata": {},
   "source": [
    "#### This was my original way of calculating the balances of each bookmaker for the qualifying bets.\n",
    "\n",
    "#### The process of creating bookie_index_list was generalised and became the value_index_list() function, which may be useful in the future."
   ]
  },
  {
   "cell_type": "code",
   "execution_count": 9,
   "metadata": {},
   "outputs": [
    {
     "name": "stdout",
     "output_type": "stream",
     "text": [
      "Betfred 20.5\n",
      "Coral 9.55\n",
      "Skybet 12.0\n",
      "William Hill 18.5\n",
      "BetWay 56.1\n"
     ]
    }
   ],
   "source": [
    "winning_qualifying_bets = (bet_spreadsheet['Bet Type'] == 'Qualifying')   \\\n",
    "                     & (bet_spreadsheet['Bet Result'] == 'Win')\n",
    "\n",
    "bookie_index_list = {}\n",
    "for index, bookie in bet_spreadsheet[winning_qualifying_bets]['Bookie'].iteritems():\n",
    "    bookie_index_list.setdefault(bookie, []).append(index)\n",
    "        \n",
    "for bookie, index_list in bookie_index_list.items():\n",
    "    qualifying_bets_balance = sum(bet_spreadsheet.loc[index_list, 'Stake']   \\\n",
    "                            + bet_spreadsheet.loc[index_list, 'Return'])\n",
    "    print(\"{} {}\".format(bookie, qualifying_bets_balance))"
   ]
  },
  {
   "cell_type": "markdown",
   "metadata": {},
   "source": [
    "#### Using .groupby('Bookie') to calculate the balances turns out to be less complicated."
   ]
  },
  {
   "cell_type": "code",
   "execution_count": 7,
   "metadata": {},
   "outputs": [
    {
     "data": {
      "text/plain": [
       "Bookie\n",
       "BetWay          56.10\n",
       "Betfred         20.50\n",
       "Coral            9.55\n",
       "Skybet          12.00\n",
       "William Hill    18.50\n",
       "dtype: float64"
      ]
     },
     "execution_count": 7,
     "metadata": {},
     "output_type": "execute_result"
    }
   ],
   "source": [
    "def qualifying_bet_balances(spreadsheet):\n",
    "    \"\"\"Returns a series with the balance for each bookie due to all \n",
    "       settled qualifying bets.\"\"\"\n",
    "    \n",
    "    winning_qualifying_bets = (spreadsheet['Bet Type'] == 'Qualifying')   \\\n",
    "                               & (spreadsheet['Bet Result'] == 'Win')\n",
    "    \n",
    "    qualifying_by_bookie = spreadsheet[winning_qualifying_bets].groupby('Bookie') \n",
    "    \n",
    "    # Our original stake is returned with qualifying bets\n",
    "    qualifying_balances = qualifying_by_bookie['Stake'].sum()   \\\n",
    "                             + qualifying_by_bookie['Return'].sum()\n",
    "    \n",
    "    # Smarkets balance will be calculated separately \n",
    "    if 'Smarkets' in qualifying_balances.index:\n",
    "        qualifying_balances.drop('Smarkets', inplace=True)\n",
    "        \n",
    "    return qualifying_balances\n",
    "\n",
    "qualifying_bet_balances(bet_spreadsheet)"
   ]
  },
  {
   "cell_type": "code",
   "execution_count": 8,
   "metadata": {},
   "outputs": [
    {
     "data": {
      "text/plain": [
       "Bookie\n",
       "Coral    110.0\n",
       "Name: Return, dtype: float64"
      ]
     },
     "execution_count": 8,
     "metadata": {},
     "output_type": "execute_result"
    }
   ],
   "source": [
    "def free_bet_balances(spreadsheet):\n",
    "    \"\"\"Returns a series with the balance for each bookie due to all \n",
    "       settled free bets.\"\"\"\n",
    "\n",
    "    winning_free_bets = (spreadsheet['Bet Type'] == 'Free (SNR)') \\\n",
    "                               & (spreadsheet['Bet Result'] == 'Win')\n",
    "    \n",
    "    free_by_bookie = spreadsheet[winning_free_bets].groupby('Bookie')\n",
    "    \n",
    "    # Our original state is not returned with free bets\n",
    "    # SNR means \"stake not returned\"\n",
    "    free_balances = free_by_bookie['Return'].sum()\n",
    "    \n",
    "    # Smarkets balance will be calculated separately \n",
    "    if 'Smarkets' in free_balances.index:\n",
    "        free_balances.drop('Smarkets', inplace=True)\n",
    "    \n",
    "    return free_balances\n",
    "\n",
    "free_bet_balances(bet_spreadsheet)"
   ]
  },
  {
   "cell_type": "code",
   "execution_count": 14,
   "metadata": {},
   "outputs": [
    {
     "data": {
      "text/plain": [
       "Bookie\n",
       "BetWay             NaN\n",
       "Betfred            NaN\n",
       "Coral           119.55\n",
       "Skybet             NaN\n",
       "William Hill       NaN\n",
       "dtype: float64"
      ]
     },
     "execution_count": 14,
     "metadata": {},
     "output_type": "execute_result"
    }
   ],
   "source": [
    "qualifying_bet_balances(bet_spreadsheet) + free_bet_balances(bet_spreadsheet)\n"
   ]
  },
  {
   "cell_type": "markdown",
   "metadata": {},
   "source": [
    "#### Add series could be useful in future which is way the syntax is generalised."
   ]
  },
  {
   "cell_type": "code",
   "execution_count": 12,
   "metadata": {},
   "outputs": [
    {
     "data": {
      "text/plain": [
       "Bookie\n",
       "BetWay           56.10\n",
       "Betfred          20.50\n",
       "Coral           119.55\n",
       "Skybet           12.00\n",
       "William Hill     18.50\n",
       "dtype: float64"
      ]
     },
     "execution_count": 12,
     "metadata": {},
     "output_type": "execute_result"
    }
   ],
   "source": [
    "def add_series(series_1, series_2):\n",
    "    \"\"\"Removes NaNs when two series are added together and some indices don't match.\n",
    "       Indices which don't match keep values from original series.\n",
    "       Still works if all indices from both series match.\"\"\"\n",
    "    \n",
    "    potential_sum = series_1 + series_2\n",
    "    \n",
    "    removed_NaN_sum = potential_sum.fillna(series_1)  \\\n",
    "                                   .fillna(series_2)\n",
    "    return removed_NaN_sum\n",
    "\n",
    "add_series(qualifying_bet_balances(bet_spreadsheet), free_bet_balances(bet_spreadsheet))\n"
   ]
  },
  {
   "cell_type": "code",
   "execution_count": 13,
   "metadata": {},
   "outputs": [
    {
     "data": {
      "text/plain": [
       "Bookie\n",
       "BetWay           56.10\n",
       "Betfred          20.50\n",
       "Coral           119.55\n",
       "Skybet           12.00\n",
       "William Hill     18.50\n",
       "dtype: float64"
      ]
     },
     "execution_count": 13,
     "metadata": {},
     "output_type": "execute_result"
    }
   ],
   "source": [
    "def bookie_balances(spreadsheet):\n",
    "    \"\"\"Returns the total balance for each bookmaker for all settled bets.\"\"\"\n",
    "    \n",
    "    return add_series(qualifying_bet_balances(spreadsheet), free_bet_balances(spreadsheet))\n",
    "\n",
    "bookie_balances(bet_spreadsheet)"
   ]
  },
  {
   "cell_type": "markdown",
   "metadata": {},
   "source": [
    "#### The generalised version of finding bookie_index_list from before"
   ]
  },
  {
   "cell_type": "code",
   "execution_count": 16,
   "metadata": {},
   "outputs": [
    {
     "data": {
      "text/plain": [
       "{'Betfred': [0, 18],\n",
       " 'Smarkets': [1, 3, 5, 7, 9, 11, 13, 15, 17, 19],\n",
       " 'Coral': [2, 4],\n",
       " 'Skybet': [6, 8],\n",
       " 'William Hill': [10, 12],\n",
       " 'BetWay': [14, 16]}"
      ]
     },
     "execution_count": 16,
     "metadata": {},
     "output_type": "execute_result"
    }
   ],
   "source": [
    "def value_index_list(series):\n",
    "    \"\"\"Iterates through values in a pandas series and returns a dictionary of the form\n",
    "       {value : [indices for value]}\n",
    "\n",
    "       Originally used to calculate qualifying bet balances before I realised that it was\n",
    "       easier to use groupby instead.\n",
    "\n",
    "       Could be useful in the future.\"\"\"\n",
    "\n",
    "    value_indices_dictionary = {}\n",
    "\n",
    "    for index, value in series.iteritems():\n",
    "        value_indices_dictionary.setdefault(value, []).append(index)\n",
    "\n",
    "    return value_indices_dictionary\n",
    "\n",
    "value_index_list(bet_spreadsheet['Bookie'])"
   ]
  }
 ],
 "metadata": {
  "kernelspec": {
   "display_name": "Python 3",
   "language": "python",
   "name": "python3"
  },
  "language_info": {
   "codemirror_mode": {
    "name": "ipython",
    "version": 3
   },
   "file_extension": ".py",
   "mimetype": "text/x-python",
   "name": "python",
   "nbconvert_exporter": "python",
   "pygments_lexer": "ipython3",
   "version": "3.7.4"
  }
 },
 "nbformat": 4,
 "nbformat_minor": 2
}
